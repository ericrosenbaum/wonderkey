{
 "cells": [
  {
   "cell_type": "code",
   "execution_count": null,
   "metadata": {
    "collapsed": true
   },
   "outputs": [],
   "source": [
    "import librosa\n",
    "import numpy as np\n",
    "import matplotlib.pyplot as plt\n",
    "%matplotlib inline\n",
    "import seaborn\n",
    "seaborn.set(style='ticks')"
   ]
  },
  {
   "cell_type": "code",
   "execution_count": null,
   "metadata": {
    "collapsed": true
   },
   "outputs": [],
   "source": [
    "import scipy"
   ]
  },
  {
   "cell_type": "code",
   "execution_count": null,
   "metadata": {
    "collapsed": true
   },
   "outputs": [],
   "source": [
    "import json"
   ]
  },
  {
   "cell_type": "code",
   "execution_count": null,
   "metadata": {
    "collapsed": true
   },
   "outputs": [],
   "source": [
    "import os"
   ]
  },
  {
   "cell_type": "code",
   "execution_count": null,
   "metadata": {
    "collapsed": true
   },
   "outputs": [],
   "source": [
    "import mpld3\n",
    "mpld3.enable_notebook()"
   ]
  },
  {
   "cell_type": "code",
   "execution_count": null,
   "metadata": {
    "collapsed": true
   },
   "outputs": [],
   "source": [
    "def onset_aligned_intervals(onsets, y):\n",
    "    \n",
    "    zeros = np.flatnonzero(librosa.zero_crossings(y))\n",
    "    \n",
    "    intervals = librosa.util.frame(onsets, frame_length=2, hop_length=1).T\n",
    "    \n",
    "    return zeros[librosa.util.match_events(librosa.frames_to_samples(intervals), zeros)]"
   ]
  },
  {
   "cell_type": "code",
   "execution_count": null,
   "metadata": {
    "collapsed": true
   },
   "outputs": [],
   "source": [
    "def dftnorm(c):\n",
    "    \n",
    "    D = np.fft.rfft(c, axis=0)\n",
    "    S = np.abs(D)\n",
    "    energy = np.sum(S**2, axis=0, keepdims=True)**0.5\n",
    "    energy = librosa.util.normalize(energy, norm=1, axis=1)\n",
    "    \n",
    "    Z = np.sum(energy * S, axis=1, keepdims=True)\n",
    "    \n",
    "    cinv = np.fft.irfft(D / (1e-8 + Z), axis=0)\n",
    "    \n",
    "    if np.iscomplexobj(cinv):\n",
    "        cinv = cinv.real\n",
    "        \n",
    "    return cinv"
   ]
  },
  {
   "cell_type": "code",
   "execution_count": null,
   "metadata": {
    "collapsed": true
   },
   "outputs": [],
   "source": [
    "def analyze_stem(infile):\n",
    "    y, sr = librosa.load(infile)\n",
    "    \n",
    "    y_harm = librosa.effects.harmonic(y)\n",
    "    cqgram = librosa.cqt(y_harm, sr=sr, bins_per_octave=12, n_bins=72)\n",
    "    cqgram = scipy.ndimage.median_filter(cqgram, size=(1, 9))\n",
    "    cqgram = dftnorm(cqgram)\n",
    "    \n",
    "    \n",
    "    loudness = librosa.logamplitude(librosa.feature.rmse(y)**2)\n",
    "    \n",
    "    odf = librosa.onset.onset_strength(y, sr=sr, aggregate=np.median, feature=librosa.cqt, n_bins=72)\n",
    "    onset_boundaries = librosa.onset.onset_detect(onset_envelope=odf)\n",
    "    onset_boundaries = librosa.util.fix_frames(onset_boundaries, x_max=cqgram.shape[-1])\n",
    "    \n",
    "    cqgram_sync = librosa.feature.sync(cqgram, onset_boundaries, aggregate=np.max)\n",
    "    loudness_sync = librosa.feature.sync(loudness, onset_boundaries, aggregate=np.mean).ravel()\n",
    "    \n",
    "    notes = 24 + np.argmax(librosa.logamplitude(cqgram_sync**2, top_db=30), axis=0)\n",
    "    \n",
    "    intervals = onset_aligned_intervals(onset_boundaries, y)\n",
    "    \n",
    "    # Convert intervals to time\n",
    "    times = librosa.samples_to_time(intervals)\n",
    "    \n",
    "    threshold = -40\n",
    "    \n",
    "    data = zip(list(times[:, 0]),\n",
    "               list(times[:, 1] - times[:, 0]),\n",
    "               notes,\n",
    "               list(loudness_sync),\n",
    "               [bool(x) for x in list(loudness_sync >= threshold)])\n",
    "    \n",
    "    return data"
   ]
  },
  {
   "cell_type": "code",
   "execution_count": null,
   "metadata": {
    "collapsed": false
   },
   "outputs": [],
   "source": [
    "stems = librosa.util.find_files('~/data/stems/Stevie Wonder - Superstition/', ext='flac')"
   ]
  },
  {
   "cell_type": "code",
   "execution_count": null,
   "metadata": {
    "collapsed": false
   },
   "outputs": [],
   "source": [
    "for stem_file in stems:\n",
    "    outfile = os.path.join(os.path.dirname(stem_file), \n",
    "                       os.path.extsep.join([os.path.splitext(os.path.basename(stem_file))[0],\n",
    "                               'json']))\n",
    "    print outfile\n",
    "    data = analyze_stem(stem_file)\n",
    "    with open(outfile, 'w') as f:\n",
    "        json.dump(data, f, indent=2)"
   ]
  }
 ],
 "metadata": {
  "kernelspec": {
   "display_name": "Python 2",
   "language": "python",
   "name": "python2"
  },
  "language_info": {
   "codemirror_mode": {
    "name": "ipython",
    "version": 2
   },
   "file_extension": ".py",
   "mimetype": "text/x-python",
   "name": "python",
   "nbconvert_exporter": "python",
   "pygments_lexer": "ipython2",
   "version": "2.7.8"
  }
 },
 "nbformat": 4,
 "nbformat_minor": 0
}
